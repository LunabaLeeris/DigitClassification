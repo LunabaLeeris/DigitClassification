{
 "cells": [
  {
   "cell_type": "markdown",
   "metadata": {},
   "source": [
    "Parse the images and create the corresponding Vectors"
   ]
  },
  {
   "cell_type": "code",
   "execution_count": 25,
   "metadata": {},
   "outputs": [
    {
     "name": "stdout",
     "output_type": "stream",
     "text": [
      "Feature matrix shape: [[  2 255 186 ...  88  83 255]\n",
      " [ 10 255 157 ...  89  87 255]\n",
      " [ 20 255  89 ...  84  89 255]\n",
      " ...\n",
      " [132 255 165 ... 123 121 255]\n",
      " [128 255 161 ... 105 118 255]\n",
      " [127 255 155 ...  64  96 255]]\n",
      "Shape:  (4096, 100)\n"
     ]
    }
   ],
   "source": [
    "import os\n",
    "import numpy as np\n",
    "from PIL import Image\n",
    "\n",
    "image_folder_path = 'dataset/Beagle'\n",
    "\n",
    "# Get the list of all image files in the folder\n",
    "image_files = [f for f in os.listdir(image_folder_path) if os.path.isfile(os.path.join(image_folder_path, f))]\n",
    "\n",
    "# Function to load, resize, and preprocess an image\n",
    "def load_and_preprocess_image(image_path, target_size=(64, 64)):\n",
    "    image = Image.open(image_path).convert('L')  # Convert to grayscale for simplicity\n",
    "    image = image.resize(target_size)            # Resize to the target size\n",
    "    features = np.array(image).flatten()         # Flatten the image array to a 1D feature vector\n",
    "    return features\n",
    "\n",
    "# Load and preprocess all images\n",
    "all_features = []\n",
    "for image_file in image_files:\n",
    "    image_path = os.path.join(image_folder_path, image_file)\n",
    "    features = load_and_preprocess_image(image_path)\n",
    "    all_features.append(features)\n",
    "\n",
    "feature_matrix = np.array(all_features).T\n",
    "\n",
    "print('Feature matrix shape:', feature_matrix)\n",
    "print('Shape: ', feature_matrix.shape)"
   ]
  }
 ],
 "metadata": {
  "kernelspec": {
   "display_name": "Python 3",
   "language": "python",
   "name": "python3"
  },
  "language_info": {
   "codemirror_mode": {
    "name": "ipython",
    "version": 3
   },
   "file_extension": ".py",
   "mimetype": "text/x-python",
   "name": "python",
   "nbconvert_exporter": "python",
   "pygments_lexer": "ipython3",
   "version": "3.12.2"
  }
 },
 "nbformat": 4,
 "nbformat_minor": 2
}
