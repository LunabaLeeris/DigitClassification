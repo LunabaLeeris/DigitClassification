{
 "cells": [
  {
   "cell_type": "markdown",
   "metadata": {},
   "source": [
    "**WHAT IS THIS?**\n",
    "\n",
    "An experiment on image classication using softmax regression\n",
    "\n",
    "**SUMMARY OF RESULTS**\n",
    "\n",
    "Successfully learned all the training data with 99 percent accuracy.\n",
    "\n",
    "Given the configurations, the training took 10,000 iterations. \n",
    "\n",
    "Bad at classifying handwritten examples. \n",
    "\n",
    "**GOAL**\n",
    "\n",
    "To classify a digit from 0 - 9\n",
    "\n",
    "**IMPEMENTATION**\n",
    "\n",
    "This uses the following update function\n",
    "$$\n",
    "\\theta^{k + 1} = \\theta^k + a\\times X(Y - H(X))\n",
    "$$\n",
    "where $H(X)\\exists\\R^{k - 1 \\times m}$ denotes the hypothesis per feature. We can calculate it through the following matrix transformations\n",
    "\n",
    "$$\n",
    "H(X) = \\frac{1}{\\sum_j^ke^{\\theta_j x^T}} \\times E\n",
    "$$\n",
    "\n",
    "And\n",
    "$$\n",
    "X \\exists \\R^{m \\times d}\n",
    "$$\n",
    "\n",
    "such that m is the number of training data and d is the number of features. We can determine its classification using a one-hot vector\n",
    "\n",
    "$$\n",
    "Y \\exist\\R^{k\\times m}\n",
    "$$\n",
    "\n",
    "Also k is the number of classifications, and the i’th entry in Y is the classification of the i’th classification in X denoted as a vector that is 0 everywhere except the k’th index that pertains to the classification of $x_i$. Example, if the classification of $x_i$ is 2, we expect a one hot vector as follows\n",
    "\n",
    "$$\n",
    "V_2 = [0, 0, 1, 0, 0,0]^T\n",
    "$$\n",
    "\n",
    "We can then denote the parameters per classification $\\theta$ as \n",
    "\n",
    "$$\n",
    "\\theta\\exists\\R^{k\\times d}\n",
    "$$\n",
    "\n",
    "where $\\theta_i$ is the i’th parameter that produces the line that helps us gauge how close a data is to this classification.\n",
    "\n",
    "**HYPOTHESIS**\n",
    "\n",
    "To produce a hypothesis, we will use the following\n",
    "$$\n",
    "h(x) = \n",
    "\\frac{1}{\\sum_j^ke^{\\theta_j x^T}}\\times\\begin{bmatrix}\n",
    "e^{\\theta_0 x^T} \\\\ \n",
    "e^{\\theta_1 x^T} \\\\ \n",
    "e^{\\theta_3 x^T} \\\\\n",
    "\\vdots \\\\\n",
    "e^{\\theta_{k} x^T}\n",
    "\\end{bmatrix}\n",
    "$$  \n",
    "\n",
    "which can easily be calculated using the following matrix tranformation\n",
    "$$\n",
    "\\frac{1}{\\sum_j^ke^{\\theta_j x^T}} \\times e^{\\theta x^T}\n",
    "$$"
   ]
  },
  {
   "cell_type": "markdown",
   "metadata": {},
   "source": [
    "## STEP 1: Parse the images and create X, Y and $\\theta$"
   ]
  },
  {
   "cell_type": "code",
   "execution_count": 103,
   "metadata": {},
   "outputs": [
    {
     "name": "stdout",
     "output_type": "stream",
     "text": [
      "Extracting X Successful\n",
      "Extracting Y Successful\n",
      "Extracting THETA Successful\n",
      "X:  <tf.Variable 'Variable:0' shape=(16384, 10160) dtype=float32, numpy=\n",
      "array([[255., 255., 255., ..., 255., 255., 255.],\n",
      "       [255., 255., 255., ..., 255., 255., 255.],\n",
      "       [255., 255., 255., ..., 255., 255., 255.],\n",
      "       ...,\n",
      "       [255., 255., 255., ..., 255., 255., 255.],\n",
      "       [255., 255., 255., ..., 255., 255., 255.],\n",
      "       [255., 255., 255., ..., 255., 255., 255.]], dtype=float32)>\n",
      "Y:  <tf.Variable 'Variable:0' shape=(10, 10160) dtype=float32, numpy=\n",
      "array([[1., 1., 1., ..., 0., 0., 0.],\n",
      "       [0., 0., 0., ..., 0., 0., 0.],\n",
      "       [0., 0., 0., ..., 0., 0., 0.],\n",
      "       ...,\n",
      "       [0., 0., 0., ..., 0., 0., 0.],\n",
      "       [0., 0., 0., ..., 0., 0., 0.],\n",
      "       [0., 0., 0., ..., 1., 1., 1.]], dtype=float32)>\n",
      "THETA:  <tf.Variable 'Variable:0' shape=(10, 16384) dtype=float32, numpy=\n",
      "array([[ 0.2810503 ,  0.2810503 ,  0.2810503 , ...,  0.2810503 ,\n",
      "         0.2810503 ,  0.2810503 ],\n",
      "       [-0.18975331, -0.18975331, -0.18975331, ..., -0.18975331,\n",
      "        -0.18975331, -0.18975331],\n",
      "       [ 0.16814686,  0.16814686,  0.16814686, ...,  0.16814686,\n",
      "         0.16814686,  0.16814686],\n",
      "       ...,\n",
      "       [ 0.02690727,  0.02690727,  0.02690727, ...,  0.02690727,\n",
      "         0.02690727,  0.02690727],\n",
      "       [ 0.16111821,  0.16111821,  0.16111821, ...,  0.16111821,\n",
      "         0.16111821,  0.16111821],\n",
      "       [ 0.25742155,  0.25742155,  0.25742155, ...,  0.25742155,\n",
      "         0.25742155,  0.25742155]], dtype=float32)>\n"
     ]
    }
   ],
   "source": [
    "import os\n",
    "from PIL import Image\n",
    "import tensorflow as tf\n",
    "from IPython.display import display\n",
    "import numpy as np\n",
    "\n",
    "# Config accordingly\n",
    "dataset_path = 'dataset/'\n",
    "data_to_predict_path = 'to_predict/'\n",
    "classifications = ['0', '1', '2', '3', '4', '5', '6', '7', '8', '9']\n",
    "\n",
    "k = len(classifications)\n",
    "s = 128                   # adjust according to dimensions of images\n",
    "d = s*s                   # expected number of features. try to ensure that it's a square number\n",
    "f = 100000                # factor to divide H to avoid getting large or very small outputs\n",
    "\n",
    "initialize_x_y = False    # turn to on if you want to refresh the dataset\n",
    "initialize_theta = False  # turn to on if you want to reset theta\n",
    "\n",
    "# Values to be computed\n",
    "m = 0                     # number of dataset\n",
    "all_features = []         # i'th index represents the features of the i'th image\n",
    "all_classifications = []  # i'th index represents the one-hot classification of the i'th image\n",
    "\n",
    "# Function to load, resize, and preprocess an image\n",
    "def load_and_preprocess_image(image_path, target_size=(s, s)):\n",
    "    print(\"Processing image: \" + image_path)\n",
    "    image = tf.io.read_file(image_path)                 # Read image file   \n",
    "    image = tf.image.decode_image(image, channels=1)    # Decode image to 3D tensor (height, width, channels)\n",
    "    image = tf.image.resize(image, target_size)         # Resize image\n",
    "    image = tf.reshape(image, (-1,))                    # Flatten image tensor to 1D tensor\n",
    "    return image                                        # Returns a row vector of size d\n",
    "\n",
    "# Process all images\n",
    "def convert_all_images_to_tensors():\n",
    "    for i in range(k):\n",
    "        # Get the list of all image files in the folder\n",
    "        image_folder_path = os.path.join(dataset_path, classifications[i])\n",
    "        image_files = [os.path.join(image_folder_path, f) for f in os.listdir(image_folder_path) \n",
    "                       if os.path.isfile(os.path.join(image_folder_path, f))]\n",
    "        \n",
    "        print(\"Processing Folder: \" + image_folder_path)\n",
    "        for image_file in image_files:\n",
    "            features = load_and_preprocess_image(image_file)\n",
    "            all_features.append(features)\n",
    "            all_classifications.append(tf.one_hot(i, k))\n",
    "    \n",
    "    print(\"Processing Dataset Succesfull\")\n",
    "    m = len(all_features)\n",
    "\n",
    "def save_progress(tensor, path, name):\n",
    "    serialized_tensor = tf.io.serialize_tensor(tensor)\n",
    "    tf.io.write_file(path, serialized_tensor)\n",
    "    print(\"Saving \" + name + \" Successful\")\n",
    "\n",
    "def extract(path, name):\n",
    "    tensor = tf.io.read_file(path)\n",
    "    matrix = tf.io.parse_tensor(tensor, out_type=tf.float32)\n",
    "    print(\"Extracting \" + name + \" Successful\")\n",
    "\n",
    "    return matrix\n",
    "\n",
    "# Create TensorFlow constants for features (X) and classifications (Y) and theta\n",
    "if initialize_x_y:\n",
    "    convert_all_images_to_tensors()\n",
    "    X = tf.transpose(tf.convert_to_tensor(all_features))\n",
    "    Y = tf.transpose(tf.convert_to_tensor(all_classifications))\n",
    "    \n",
    "    save_progress(X, 'x.tfrecord', \"X\")\n",
    "    save_progress(Y, 'y.tfrecord', \"Y\")\n",
    "\n",
    "else:\n",
    "   X = tf.Variable(extract('x.tfrecord', \"X\"))\n",
    "   Y = tf.Variable(extract('y.tfrecord', \"Y\"))\n",
    "\n",
    "if initialize_theta:\n",
    "    THETA = tf.Variable(tf.zeros((k, d)))\n",
    "else:\n",
    "    THETA = tf.Variable(extract('parameters.tfrecord', \"THETA\"))\n",
    "    \n",
    "print(\"X: \", X)\n",
    "print(\"Y: \", Y)\n",
    "print(\"THETA: \", THETA)"
   ]
  },
  {
   "cell_type": "markdown",
   "metadata": {},
   "source": [
    "# STEP 2: Softmax Regression\n",
    "Training the data"
   ]
  },
  {
   "cell_type": "code",
   "execution_count": 104,
   "metadata": {},
   "outputs": [],
   "source": [
    "def produce_hypothesis(image_to_predict_features):\n",
    "    transformation = tf.matmul(THETA, image_to_predict_features)\n",
    "    scales_to_positive = tf.exp(transformation / f)\n",
    "    \n",
    "    normalised = tf.divide(scales_to_positive, tf.reduce_sum(scales_to_positive))\n",
    "\n",
    "    print(\"Producing Prediction Success\")\n",
    "    return normalised\n",
    "\n",
    "def H(to_predict_data, show_logs=True):\n",
    "    transformation = tf.matmul(THETA, to_predict_data)\n",
    "    scaled_to_positive = tf.exp(transformation / f)\n",
    "\n",
    "    sum_per_col = tf.reduce_sum(scaled_to_positive, axis=0)\n",
    "    normalised = tf.divide(scaled_to_positive, sum_per_col)\n",
    "    \n",
    "    if show_logs:\n",
    "        print(\"Transformation: \", transformation)\n",
    "        print(\"H(X): \", normalised) \n",
    "\n",
    "    return normalised\n",
    "\n",
    "def is_not_finite(tensor):\n",
    "    return tf.reduce_any(tf.math.is_nan(tensor) | tf.math.is_inf(tensor))\n",
    "\n",
    "def train_softmax_regression(a, iterations):\n",
    "    for i in range(iterations):\n",
    "        print(\"Training iteration number: \" + str(i))\n",
    "        loss = tf.subtract(Y, H(X))\n",
    "        THETA_NEW = THETA + a * tf.matmul(loss, tf.transpose(X))\n",
    "        print(\"Loss: \", loss)\n",
    "\n",
    "        if is_not_finite(THETA_NEW):\n",
    "            print(\"Aborting training, Theta is exploding to oblivion. Try adjusting learning rate (a)\")\n",
    "            return\n",
    "        \n",
    "        THETA.assign(THETA_NEW)\n",
    "\n",
    "    print(THETA)\n",
    "    save_progress(THETA, 'parameters.tfrecord', \"THETA\")\n",
    "\n",
    "#train_softmax_regression(.0000027, 100)"
   ]
  },
  {
   "cell_type": "markdown",
   "metadata": {},
   "source": [
    "# Step 3: Predictions\n",
    "We will make predictions for the images on to_predict/ directory. We will get the top 3 hypothesis and display their confidence levvels"
   ]
  },
  {
   "cell_type": "code",
   "execution_count": 105,
   "metadata": {},
   "outputs": [
    {
     "name": "stdout",
     "output_type": "stream",
     "text": [
      "Processing image: to_predict/img-07-01.png\n",
      "Processing image: to_predict/img-3-01.png\n",
      "Processing image: to_predict/img-4-01.png\n",
      "Processing image: to_predict/img-6-01.png\n",
      "Processing image: to_predict/img-8-01.png\n",
      "Processing image: to_predict/img006-00144.png\n",
      "Processing image: to_predict/img010-00061.png\n"
     ]
    },
    {
     "data": {
      "image/png": "[encoded data removed]",
      "text/plain": [
       "<PIL.PngImagePlugin.PngImageFile image mode=RGBA size=128x128>"
      ]
     },
     "metadata": {},
     "output_type": "display_data"
    },
    {
     "name": "stdout",
     "output_type": "stream",
     "text": [
      "prediction\n",
      "7 | 99.36773%\n",
      "3 | 0.3771966%\n",
      "9 | 0.10460329%\n"
     ]
    },
    {
     "data": {
      "image/png": "[encoded data removed]",
      "text/plain": [
       "<PIL.PngImagePlugin.PngImageFile image mode=RGBA size=128x128>"
      ]
     },
     "metadata": {},
     "output_type": "display_data"
    },
    {
     "name": "stdout",
     "output_type": "stream",
     "text": [
      "prediction\n",
      "3 | 99.76084%\n",
      "9 | 0.0915346%\n",
      "7 | 0.07192936%\n"
     ]
    },
    {
     "data": {
      "image/png": "[encoded data removed]",
      "text/plain": [
       "<PIL.PngImagePlugin.PngImageFile image mode=RGBA size=128x128>"
      ]
     },
     "metadata": {},
     "output_type": "display_data"
    },
    {
     "name": "stdout",
     "output_type": "stream",
     "text": [
      "prediction\n",
      "4 | 79.86333%\n",
      "9 | 9.249437%\n",
      "1 | 5.5744495%\n"
     ]
    },
    {
     "data": {
      "image/png": "[encoded data removed]",
      "text/plain": [
       "<PIL.PngImagePlugin.PngImageFile image mode=RGBA size=128x128>"
      ]
     },
     "metadata": {},
     "output_type": "display_data"
    },
    {
     "name": "stdout",
     "output_type": "stream",
     "text": [
      "prediction\n",
      "6 | 72.923515%\n",
      "4 | 21.07379%\n",
      "8 | 3.954423%\n"
     ]
    },
    {
     "data": {
      "image/png": "[encoded data removed]",
      "text/plain": [
       "<PIL.PngImagePlugin.PngImageFile image mode=RGBA size=128x128>"
      ]
     },
     "metadata": {},
     "output_type": "display_data"
    },
    {
     "name": "stdout",
     "output_type": "stream",
     "text": [
      "prediction\n",
      "8 | 86.520386%\n",
      "6 | 12.998221%\n",
      "4 | 0.18572025%\n"
     ]
    },
    {
     "data": {
      "image/jpeg": "[encoded data removed]",
      "image/png": "[encoded data removed]",
      "text/plain": [
       "<PIL.PngImagePlugin.PngImageFile image mode=L size=128x128>"
      ]
     },
     "metadata": {},
     "output_type": "display_data"
    },
    {
     "name": "stdout",
     "output_type": "stream",
     "text": [
      "prediction\n",
      "5 | 99.41165%\n",
      "6 | 0.39484113%\n",
      "9 | 0.15450789%\n"
     ]
    },
    {
     "data": {
      "image/jpeg": "[encoded data removed]",
      "image/png": "[encoded data removed]",
      "text/plain": [
       "<PIL.PngImagePlugin.PngImageFile image mode=L size=128x128>"
      ]
     },
     "metadata": {},
     "output_type": "display_data"
    },
    {
     "name": "stdout",
     "output_type": "stream",
     "text": [
      "prediction\n",
      "9 | 99.9975%\n",
      "6 | 0.0009997234%\n",
      "0 | 0.00054625026%\n"
     ]
    }
   ],
   "source": [
    "def display_image(image_path):\n",
    "    image = Image.open(image_path)\n",
    "    display(image)\n",
    "\n",
    "def display_predictions():\n",
    "    image_files = [os.path.join(data_to_predict_path, f) for f in os.listdir(data_to_predict_path) \n",
    "                       if os.path.isfile(os.path.join(data_to_predict_path, f))]\n",
    "    image_features = [load_and_preprocess_image(image_file) for image_file in image_files]\n",
    "\n",
    "    IMG_F = tf.transpose(tf.convert_to_tensor(image_features))\n",
    "    hypotheses = H(IMG_F, show_logs=False).numpy() * 100\n",
    "\n",
    "    for i in range(len(image_files)):\n",
    "        display_image(image_files[i])\n",
    "        predictions = hypotheses[:, i]\n",
    "        k = 3\n",
    "        top_k_idx =  np.argsort(predictions)[-k:][::-1]\n",
    "\n",
    "        print(\"prediction\")\n",
    "        for idx in top_k_idx:\n",
    "            print(classifications[idx] + \" | \" + str(predictions[idx]) + \"%\")\n",
    "        \n",
    "display_predictions()"
   ]
  }
 ],
 "metadata": {
  "kernelspec": {
   "display_name": "Python 3",
   "language": "python",
   "name": "python3"
  },
  "language_info": {
   "codemirror_mode": {
    "name": "ipython",
    "version": 3
   },
   "file_extension": ".py",
   "mimetype": "text/x-python",
   "name": "python",
   "nbconvert_exporter": "python",
   "pygments_lexer": "ipython3",
   "version": "3.12.2"
  }
 },
 "nbformat": 4,
 "nbformat_minor": 2
}
